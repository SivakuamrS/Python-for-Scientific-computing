{
  "nbformat": 4,
  "nbformat_minor": 0,
  "metadata": {
    "colab": {
      "provenance": [],
      "authorship_tag": "ABX9TyOBBPEscJ8q0QAyrbypa83f",
      "include_colab_link": true
    },
    "kernelspec": {
      "name": "python3",
      "display_name": "Python 3"
    },
    "language_info": {
      "name": "python"
    }
  },
  "cells": [
    {
      "cell_type": "markdown",
      "metadata": {
        "id": "view-in-github",
        "colab_type": "text"
      },
      "source": [
        "<a href=\"https://colab.research.google.com/github/SivakuamrS/Python-for-Scientific-computing/blob/main/Untitled42.ipynb\" target=\"_parent\"><img src=\"https://colab.research.google.com/assets/colab-badge.svg\" alt=\"Open In Colab\"/></a>"
      ]
    },
    {
      "cell_type": "code",
      "execution_count": null,
      "metadata": {
        "id": "gk7B9L5QvyAC"
      },
      "outputs": [],
      "source": []
    },
    {
      "cell_type": "code",
      "source": [
        "dir(str)"
      ],
      "metadata": {
        "colab": {
          "base_uri": "https://localhost:8080/"
        },
        "id": "cGYIXrRb0DEf",
        "outputId": "ddc34a7c-7b4a-4afc-f7b3-5151f25688d8"
      },
      "execution_count": 6,
      "outputs": [
        {
          "output_type": "execute_result",
          "data": {
            "text/plain": [
              "['__add__',\n",
              " '__class__',\n",
              " '__contains__',\n",
              " '__delattr__',\n",
              " '__dir__',\n",
              " '__doc__',\n",
              " '__eq__',\n",
              " '__format__',\n",
              " '__ge__',\n",
              " '__getattribute__',\n",
              " '__getitem__',\n",
              " '__getnewargs__',\n",
              " '__gt__',\n",
              " '__hash__',\n",
              " '__init__',\n",
              " '__init_subclass__',\n",
              " '__iter__',\n",
              " '__le__',\n",
              " '__len__',\n",
              " '__lt__',\n",
              " '__mod__',\n",
              " '__mul__',\n",
              " '__ne__',\n",
              " '__new__',\n",
              " '__reduce__',\n",
              " '__reduce_ex__',\n",
              " '__repr__',\n",
              " '__rmod__',\n",
              " '__rmul__',\n",
              " '__setattr__',\n",
              " '__sizeof__',\n",
              " '__str__',\n",
              " '__subclasshook__',\n",
              " 'capitalize',\n",
              " 'casefold',\n",
              " 'center',\n",
              " 'count',\n",
              " 'encode',\n",
              " 'endswith',\n",
              " 'expandtabs',\n",
              " 'find',\n",
              " 'format',\n",
              " 'format_map',\n",
              " 'index',\n",
              " 'isalnum',\n",
              " 'isalpha',\n",
              " 'isascii',\n",
              " 'isdecimal',\n",
              " 'isdigit',\n",
              " 'isidentifier',\n",
              " 'islower',\n",
              " 'isnumeric',\n",
              " 'isprintable',\n",
              " 'isspace',\n",
              " 'istitle',\n",
              " 'isupper',\n",
              " 'join',\n",
              " 'ljust',\n",
              " 'lower',\n",
              " 'lstrip',\n",
              " 'maketrans',\n",
              " 'partition',\n",
              " 'removeprefix',\n",
              " 'removesuffix',\n",
              " 'replace',\n",
              " 'rfind',\n",
              " 'rindex',\n",
              " 'rjust',\n",
              " 'rpartition',\n",
              " 'rsplit',\n",
              " 'rstrip',\n",
              " 'split',\n",
              " 'splitlines',\n",
              " 'startswith',\n",
              " 'strip',\n",
              " 'swapcase',\n",
              " 'title',\n",
              " 'translate',\n",
              " 'upper',\n",
              " 'zfill']"
            ]
          },
          "metadata": {},
          "execution_count": 6
        }
      ]
    },
    {
      "cell_type": "code",
      "source": [
        "# prompt: def main():\n",
        "#   user_string=input(\"Enter a string: \")\n",
        "#   vowels=0\n",
        "#   consonnts=0\n",
        "#   blanks=0\n",
        "#   for each_character in user_string:\n",
        "#     if (each_character=='a' or each_character=='e' or each_character=='i' or each_character=='o' or each_character=='u'):\n",
        "#       elif\"a\"<each_character<\"z\":\n",
        "#         consonannts+=1\n",
        "#         elif each_character==\"\":\n",
        "#           blanks+=1\n",
        "#   print(\"Total numner of vowels in user ent\n",
        "\n",
        "def main():\n",
        "  user_string=input(\"Enter a string: \")\n",
        "  vowels=0\n",
        "  consonants=0\n",
        "  blanks=0\n",
        "  for each_character in user_string:\n",
        "    if (each_character=='a' or each_character=='e' or each_character=='i' or each_character=='o' or each_character=='u'):\n",
        "      vowels+=1\n",
        "    elif(\"a\"<each_character<\"z\"):\n",
        "      consonants+=1\n",
        "    elif each_character==\" \":\n",
        "      blanks+=1\n",
        "  print(\"Total number of vowels in user entered strings is\", vowels)\n",
        "  print(\"Total number of consonants in user entered strings is\", consonants)\n",
        "  print(\"Total number of blanks in user entered strings is\", blanks)\n",
        "\n",
        "if __name__==\"__main__\":\n",
        "  main()\n"
      ],
      "metadata": {
        "colab": {
          "base_uri": "https://localhost:8080/"
        },
        "id": "0TMxuE8i1Zyk",
        "outputId": "aec9e09a-ee32-4455-8188-89c752cd1db8"
      },
      "execution_count": 8,
      "outputs": [
        {
          "output_type": "stream",
          "name": "stdout",
          "text": [
            "Enter a string: may god blees to you\n",
            "Total number of vowels in user entered strings is 7\n",
            "Total number of consonants in user entered strings is 9\n",
            "Total number of blanks in user entered strings is 4\n"
          ]
        }
      ]
    },
    {
      "cell_type": "code",
      "source": [
        "# prompt: without len() function to find length in sentence\n",
        "\n",
        "def find_length(string):\n",
        "  count = 0\n",
        "  for char in string:\n",
        "    count += 1\n",
        "  return count\n",
        "\n",
        "user_string = input(\"Enter a string: \")\n",
        "length = find_length(user_string)\n",
        "print(\"The length of the string is:\", length)\n"
      ],
      "metadata": {
        "colab": {
          "base_uri": "https://localhost:8080/"
        },
        "id": "srOUZ8We59ii",
        "outputId": "d4ad0b21-418f-437d-cdf1-21e9b1fec460"
      },
      "execution_count": 9,
      "outputs": [
        {
          "output_type": "stream",
          "name": "stdout",
          "text": [
            "Enter a string: kolathur\n",
            "The length of the string is: 8\n"
          ]
        }
      ]
    },
    {
      "cell_type": "code",
      "source": [],
      "metadata": {
        "id": "ZYtzsmLj81Dc"
      },
      "execution_count": null,
      "outputs": []
    }
  ]
}